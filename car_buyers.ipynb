{
 "cells": [
  {
   "cell_type": "markdown",
   "metadata": {},
   "source": [
    "# Data Preparation of Car Buyers Information Dataset \n"
   ]
  },
  {
   "cell_type": "markdown",
   "metadata": {},
   "source": [
    "## Task 1 Data Preparation "
   ]
  },
  {
   "cell_type": "markdown",
   "metadata": {},
   "source": [
    "Importing all required libraries"
   ]
  },
  {
   "cell_type": "code",
   "execution_count": 1,
   "metadata": {},
   "outputs": [],
   "source": [
    "import pandas as pd # import pandas package and define a nickname 'pd' for convenience\n",
    "import matplotlib.pyplot as plt\n",
    "import seaborn as sns\n",
    "sns.set_style('whitegrid')"
   ]
  },
  {
   "cell_type": "markdown",
   "metadata": {},
   "source": [
    "Reading all the comma-separated values (csv) files provided into one DataFrame.\n"
   ]
  },
  {
   "cell_type": "code",
   "execution_count": 2,
   "metadata": {},
   "outputs": [],
   "source": [
    "# Read all comma-separated values (csv) files into DataFrame.\n",
    "Manufacturer = pd.read_csv('Manufacturer.csv', sep=',' , index_col=0)\n",
    "Model = pd.read_csv('Model.csv', sep=',' , index_col=0)\n",
    "Price = pd.read_csv('Price.csv', sep=',' , index_col=0)\n",
    "Transmission = pd.read_csv('Transmission.csv', sep=',', header= 0 , index_col=0)\n",
    "Power = pd.read_csv('Power.csv', sep=',', header= 0 , index_col=0)\n",
    "Engine = pd.read_csv('Engine cc.csv', sep=',', header= 0 , index_col=0)\n",
    "Fuel = pd.read_csv('Fuel.csv', sep=',', header= 0 , index_col=0)\n",
    "Male = pd.read_csv('Male.csv', sep=',', header= 0 , index_col=0)\n",
    "Female = pd.read_csv('Female.csv', sep=',', header= 0 , index_col=0)\n",
    "Unknown = pd.read_csv('Unknown.csv', sep=',', header= 0 , index_col=0)\n",
    "Total = pd.read_csv('Total.csv', sep=',', header= 0 , index_col=0)"
   ]
  },
  {
   "cell_type": "markdown",
   "metadata": {},
   "source": [
    "Merging all dataframes to a single dataframe"
   ]
  },
  {
   "cell_type": "code",
   "execution_count": 3,
   "metadata": {},
   "outputs": [],
   "source": [
    "#Use For loop to merge csv\n",
    "\n",
    "all_df = [Model, Price, Transmission, Power, Engine, Fuel, Male, Female, Unknown, Total]\n",
    "merged_df = Manufacturer\n",
    "for df in all_df:\n",
    "    merged_df = merged_df.merge(df, left_index=True, right_index=True, how ='inner')"
   ]
  },
  {
   "cell_type": "code",
   "execution_count": 4,
   "metadata": {},
   "outputs": [
    {
     "data": {
      "text/html": [
       "<div>\n",
       "<style scoped>\n",
       "    .dataframe tbody tr th:only-of-type {\n",
       "        vertical-align: middle;\n",
       "    }\n",
       "\n",
       "    .dataframe tbody tr th {\n",
       "        vertical-align: top;\n",
       "    }\n",
       "\n",
       "    .dataframe thead th {\n",
       "        text-align: right;\n",
       "    }\n",
       "</style>\n",
       "<table border=\"1\" class=\"dataframe\">\n",
       "  <thead>\n",
       "    <tr style=\"text-align: right;\">\n",
       "      <th></th>\n",
       "      <th>Manufacturer</th>\n",
       "      <th>Model</th>\n",
       "      <th>Price</th>\n",
       "      <th>Transmission</th>\n",
       "      <th>Power</th>\n",
       "      <th>Engine CC</th>\n",
       "      <th>Fuel</th>\n",
       "      <th>Male</th>\n",
       "      <th>Female</th>\n",
       "      <th>Unknown</th>\n",
       "      <th>Total</th>\n",
       "    </tr>\n",
       "  </thead>\n",
       "  <tbody>\n",
       "    <tr>\n",
       "      <th>0</th>\n",
       "      <td>Ford</td>\n",
       "      <td>Focus</td>\n",
       "      <td>30.619322</td>\n",
       "      <td>5.966102</td>\n",
       "      <td>-94.033898</td>\n",
       "      <td>1497.169492</td>\n",
       "      <td>petrol</td>\n",
       "      <td>814172</td>\n",
       "      <td>422731</td>\n",
       "      <td>56,487</td>\n",
       "      <td>1293390</td>\n",
       "    </tr>\n",
       "    <tr>\n",
       "      <th>1</th>\n",
       "      <td>Ford</td>\n",
       "      <td>Fiesta</td>\n",
       "      <td>18.532143</td>\n",
       "      <td>5000.714286</td>\n",
       "      <td>68.571429</td>\n",
       "      <td>1166.142857</td>\n",
       "      <td>petrol</td>\n",
       "      <td>554879</td>\n",
       "      <td>631666</td>\n",
       "      <td>54,057</td>\n",
       "      <td>1240602</td>\n",
       "    </tr>\n",
       "    <tr>\n",
       "      <th>2</th>\n",
       "      <td>Volkswagen</td>\n",
       "      <td>Golf</td>\n",
       "      <td>31.242154</td>\n",
       "      <td>6.164835</td>\n",
       "      <td>-89.461538</td>\n",
       "      <td>1537.406593</td>\n",
       "      <td>petrol</td>\n",
       "      <td>483216</td>\n",
       "      <td>310604</td>\n",
       "      <td>47,563</td>\n",
       "      <td>841383</td>\n",
       "    </tr>\n",
       "    <tr>\n",
       "      <th>3</th>\n",
       "      <td>Renault</td>\n",
       "      <td>Clio</td>\n",
       "      <td>22.100000</td>\n",
       "      <td>5.615385</td>\n",
       "      <td>75.576923</td>\n",
       "      <td>1219.653846</td>\n",
       "      <td>petrol</td>\n",
       "      <td>241287</td>\n",
       "      <td>312556</td>\n",
       "      <td>28,004</td>\n",
       "      <td>581847</td>\n",
       "    </tr>\n",
       "    <tr>\n",
       "      <th>4</th>\n",
       "      <td>BMW</td>\n",
       "      <td>320i</td>\n",
       "      <td>47.848370</td>\n",
       "      <td>6.444444</td>\n",
       "      <td>126.111111</td>\n",
       "      <td>1995.777778</td>\n",
       "      <td>petrol</td>\n",
       "      <td>408016</td>\n",
       "      <td>115843</td>\n",
       "      <td>29,125</td>\n",
       "      <td>552984</td>\n",
       "    </tr>\n",
       "  </tbody>\n",
       "</table>\n",
       "</div>"
      ],
      "text/plain": [
       "  Manufacturer   Model      Price  Transmission       Power    Engine CC  \\\n",
       "0         Ford   Focus  30.619322      5.966102  -94.033898  1497.169492   \n",
       "1         Ford  Fiesta  18.532143   5000.714286   68.571429  1166.142857   \n",
       "2   Volkswagen    Golf  31.242154      6.164835  -89.461538  1537.406593   \n",
       "3      Renault    Clio  22.100000      5.615385   75.576923  1219.653846   \n",
       "4          BMW    320i  47.848370      6.444444  126.111111  1995.777778   \n",
       "\n",
       "     Fuel    Male  Female Unknown    Total  \n",
       "0  petrol  814172  422731  56,487  1293390  \n",
       "1  petrol  554879  631666  54,057  1240602  \n",
       "2  petrol  483216  310604  47,563   841383  \n",
       "3  petrol  241287  312556  28,004   581847  \n",
       "4  petrol  408016  115843  29,125   552984  "
      ]
     },
     "execution_count": 4,
     "metadata": {},
     "output_type": "execute_result"
    }
   ],
   "source": [
    "#Get a copy of merged_df.copy\n",
    "\n",
    "car_df = merged_df.copy()\n",
    "car_df.head()"
   ]
  },
  {
   "cell_type": "markdown",
   "metadata": {},
   "source": [
    "Rename 'Engine CC' column to Engine_CC for consistency "
   ]
  },
  {
   "cell_type": "code",
   "execution_count": 5,
   "metadata": {},
   "outputs": [],
   "source": [
    "car_df = car_df.rename(columns = {'Engine CC': 'Engine_CC'})"
   ]
  },
  {
   "cell_type": "markdown",
   "metadata": {},
   "source": [
    "Check for null values and drop them"
   ]
  },
  {
   "cell_type": "code",
   "execution_count": 6,
   "metadata": {},
   "outputs": [],
   "source": [
    "#Drop NaN values\n",
    "\n",
    "car_df = car_df.dropna()"
   ]
  },
  {
   "cell_type": "markdown",
   "metadata": {},
   "source": [
    "Remove commas present in some integer values  "
   ]
  },
  {
   "cell_type": "code",
   "execution_count": 7,
   "metadata": {},
   "outputs": [],
   "source": [
    "#Change type from objects to integers for some columns\n",
    "\n",
    "car_df['Male']=car_df['Male'].str.replace(',','').astype(int)\n",
    "car_df['Female']=car_df['Female'].str.replace(',','').astype(int)\n",
    "car_df['Unknown']=car_df['Unknown'].str.replace(',','').astype(int)\n",
    "car_df['Total']=car_df['Total'].str.replace(',','').astype(int)\n"
   ]
  },
  {
   "cell_type": "markdown",
   "metadata": {},
   "source": [
    "Print a concise summary of a DataFrame.\n"
   ]
  },
  {
   "cell_type": "code",
   "execution_count": 8,
   "metadata": {},
   "outputs": [
    {
     "name": "stdout",
     "output_type": "stream",
     "text": [
      "<class 'pandas.core.frame.DataFrame'>\n",
      "Int64Index: 6097 entries, 0 to 6101\n",
      "Data columns (total 11 columns):\n",
      " #   Column        Non-Null Count  Dtype  \n",
      "---  ------        --------------  -----  \n",
      " 0   Manufacturer  6097 non-null   object \n",
      " 1   Model         6097 non-null   object \n",
      " 2   Price         6097 non-null   float64\n",
      " 3   Transmission  6097 non-null   float64\n",
      " 4   Power         6097 non-null   float64\n",
      " 5   Engine_CC     6097 non-null   float64\n",
      " 6   Fuel          6097 non-null   object \n",
      " 7   Male          6097 non-null   int64  \n",
      " 8   Female        6097 non-null   int64  \n",
      " 9   Unknown       6097 non-null   int64  \n",
      " 10  Total         6097 non-null   int64  \n",
      "dtypes: float64(4), int64(4), object(3)\n",
      "memory usage: 571.6+ KB\n"
     ]
    }
   ],
   "source": [
    "car_df.info()"
   ]
  },
  {
   "cell_type": "markdown",
   "metadata": {},
   "source": [
    "Rounding off decimals for some columns"
   ]
  },
  {
   "cell_type": "code",
   "execution_count": 9,
   "metadata": {},
   "outputs": [],
   "source": [
    "#Round of decimal\n",
    "\n",
    "car_df['Price'] = car_df['Price'].round(decimals=2)\n",
    "car_df['Transmission'] = car_df['Transmission'].round(decimals=2)\n",
    "car_df['Power'] = car_df['Power'].round(decimals=2)\n",
    "car_df['Engine_CC'] = car_df['Engine_CC'].round(decimals=2)"
   ]
  },
  {
   "cell_type": "markdown",
   "metadata": {},
   "source": [
    "Generate descriptive statistics for car_df"
   ]
  },
  {
   "cell_type": "code",
   "execution_count": 10,
   "metadata": {
    "scrolled": true
   },
   "outputs": [
    {
     "data": {
      "text/html": [
       "<div>\n",
       "<style scoped>\n",
       "    .dataframe tbody tr th:only-of-type {\n",
       "        vertical-align: middle;\n",
       "    }\n",
       "\n",
       "    .dataframe tbody tr th {\n",
       "        vertical-align: top;\n",
       "    }\n",
       "\n",
       "    .dataframe thead th {\n",
       "        text-align: right;\n",
       "    }\n",
       "</style>\n",
       "<table border=\"1\" class=\"dataframe\">\n",
       "  <thead>\n",
       "    <tr style=\"text-align: right;\">\n",
       "      <th></th>\n",
       "      <th>Price</th>\n",
       "      <th>Transmission</th>\n",
       "      <th>Power</th>\n",
       "      <th>Engine_CC</th>\n",
       "      <th>Male</th>\n",
       "      <th>Female</th>\n",
       "      <th>Unknown</th>\n",
       "      <th>Total</th>\n",
       "    </tr>\n",
       "  </thead>\n",
       "  <tbody>\n",
       "    <tr>\n",
       "      <th>count</th>\n",
       "      <td>6097.000000</td>\n",
       "      <td>6097.000000</td>\n",
       "      <td>6.097000e+03</td>\n",
       "      <td>6097.000000</td>\n",
       "      <td>6.097000e+03</td>\n",
       "      <td>6097.000000</td>\n",
       "      <td>6097.000000</td>\n",
       "      <td>6.097000e+03</td>\n",
       "    </tr>\n",
       "    <tr>\n",
       "      <th>mean</th>\n",
       "      <td>88.759797</td>\n",
       "      <td>19.066154</td>\n",
       "      <td>1.101790e+03</td>\n",
       "      <td>1981.712609</td>\n",
       "      <td>3.295297e+04</td>\n",
       "      <td>20072.251435</td>\n",
       "      <td>2460.983106</td>\n",
       "      <td>5.548555e+04</td>\n",
       "    </tr>\n",
       "    <tr>\n",
       "      <th>std</th>\n",
       "      <td>3714.454041</td>\n",
       "      <td>1026.467503</td>\n",
       "      <td>6.910673e+04</td>\n",
       "      <td>817.261301</td>\n",
       "      <td>8.123568e+04</td>\n",
       "      <td>60628.807119</td>\n",
       "      <td>5795.642771</td>\n",
       "      <td>1.412439e+05</td>\n",
       "    </tr>\n",
       "    <tr>\n",
       "      <th>min</th>\n",
       "      <td>-22.050000</td>\n",
       "      <td>-6.000000</td>\n",
       "      <td>-9.403000e+01</td>\n",
       "      <td>0.000000</td>\n",
       "      <td>2.910000e+02</td>\n",
       "      <td>30.000000</td>\n",
       "      <td>13.000000</td>\n",
       "      <td>1.001000e+03</td>\n",
       "    </tr>\n",
       "    <tr>\n",
       "      <th>25%</th>\n",
       "      <td>18.510000</td>\n",
       "      <td>4.600000</td>\n",
       "      <td>7.025000e+01</td>\n",
       "      <td>1497.000000</td>\n",
       "      <td>2.784000e+03</td>\n",
       "      <td>879.000000</td>\n",
       "      <td>167.000000</td>\n",
       "      <td>3.942000e+03</td>\n",
       "    </tr>\n",
       "    <tr>\n",
       "      <th>50%</th>\n",
       "      <td>29.040000</td>\n",
       "      <td>5.000000</td>\n",
       "      <td>9.406000e+01</td>\n",
       "      <td>1832.890000</td>\n",
       "      <td>8.087000e+03</td>\n",
       "      <td>3372.000000</td>\n",
       "      <td>550.000000</td>\n",
       "      <td>1.273800e+04</td>\n",
       "    </tr>\n",
       "    <tr>\n",
       "      <th>75%</th>\n",
       "      <td>43.860000</td>\n",
       "      <td>5.970000</td>\n",
       "      <td>1.218600e+02</td>\n",
       "      <td>2247.330000</td>\n",
       "      <td>2.536600e+04</td>\n",
       "      <td>12105.000000</td>\n",
       "      <td>1945.000000</td>\n",
       "      <td>4.071800e+04</td>\n",
       "    </tr>\n",
       "    <tr>\n",
       "      <th>max</th>\n",
       "      <td>290050.260000</td>\n",
       "      <td>80000.000000</td>\n",
       "      <td>5.370355e+06</td>\n",
       "      <td>6208.000000</td>\n",
       "      <td>1.007113e+06</td>\n",
       "      <td>789633.000000</td>\n",
       "      <td>56487.000000</td>\n",
       "      <td>1.561512e+06</td>\n",
       "    </tr>\n",
       "  </tbody>\n",
       "</table>\n",
       "</div>"
      ],
      "text/plain": [
       "               Price  Transmission         Power    Engine_CC          Male  \\\n",
       "count    6097.000000   6097.000000  6.097000e+03  6097.000000  6.097000e+03   \n",
       "mean       88.759797     19.066154  1.101790e+03  1981.712609  3.295297e+04   \n",
       "std      3714.454041   1026.467503  6.910673e+04   817.261301  8.123568e+04   \n",
       "min       -22.050000     -6.000000 -9.403000e+01     0.000000  2.910000e+02   \n",
       "25%        18.510000      4.600000  7.025000e+01  1497.000000  2.784000e+03   \n",
       "50%        29.040000      5.000000  9.406000e+01  1832.890000  8.087000e+03   \n",
       "75%        43.860000      5.970000  1.218600e+02  2247.330000  2.536600e+04   \n",
       "max    290050.260000  80000.000000  5.370355e+06  6208.000000  1.007113e+06   \n",
       "\n",
       "              Female       Unknown         Total  \n",
       "count    6097.000000   6097.000000  6.097000e+03  \n",
       "mean    20072.251435   2460.983106  5.548555e+04  \n",
       "std     60628.807119   5795.642771  1.412439e+05  \n",
       "min        30.000000     13.000000  1.001000e+03  \n",
       "25%       879.000000    167.000000  3.942000e+03  \n",
       "50%      3372.000000    550.000000  1.273800e+04  \n",
       "75%     12105.000000   1945.000000  4.071800e+04  \n",
       "max    789633.000000  56487.000000  1.561512e+06  "
      ]
     },
     "execution_count": 10,
     "metadata": {},
     "output_type": "execute_result"
    }
   ],
   "source": [
    "car_df.describe()"
   ]
  },
  {
   "cell_type": "markdown",
   "metadata": {},
   "source": [
    "Remove whitespace and change to lowercase"
   ]
  },
  {
   "cell_type": "code",
   "execution_count": 11,
   "metadata": {},
   "outputs": [
    {
     "data": {
      "text/html": [
       "<div>\n",
       "<style scoped>\n",
       "    .dataframe tbody tr th:only-of-type {\n",
       "        vertical-align: middle;\n",
       "    }\n",
       "\n",
       "    .dataframe tbody tr th {\n",
       "        vertical-align: top;\n",
       "    }\n",
       "\n",
       "    .dataframe thead th {\n",
       "        text-align: right;\n",
       "    }\n",
       "</style>\n",
       "<table border=\"1\" class=\"dataframe\">\n",
       "  <thead>\n",
       "    <tr style=\"text-align: right;\">\n",
       "      <th></th>\n",
       "      <th>Manufacturer</th>\n",
       "      <th>Model</th>\n",
       "      <th>Price</th>\n",
       "      <th>Transmission</th>\n",
       "      <th>Power</th>\n",
       "      <th>Engine_CC</th>\n",
       "      <th>Fuel</th>\n",
       "      <th>Male</th>\n",
       "      <th>Female</th>\n",
       "      <th>Unknown</th>\n",
       "      <th>Total</th>\n",
       "    </tr>\n",
       "  </thead>\n",
       "  <tbody>\n",
       "    <tr>\n",
       "      <th>0</th>\n",
       "      <td>ford</td>\n",
       "      <td>focus</td>\n",
       "      <td>30.62</td>\n",
       "      <td>5.97</td>\n",
       "      <td>-94.03</td>\n",
       "      <td>1497.17</td>\n",
       "      <td>petrol</td>\n",
       "      <td>814172</td>\n",
       "      <td>422731</td>\n",
       "      <td>56487</td>\n",
       "      <td>1293390</td>\n",
       "    </tr>\n",
       "    <tr>\n",
       "      <th>1</th>\n",
       "      <td>ford</td>\n",
       "      <td>fiesta</td>\n",
       "      <td>18.53</td>\n",
       "      <td>5000.71</td>\n",
       "      <td>68.57</td>\n",
       "      <td>1166.14</td>\n",
       "      <td>petrol</td>\n",
       "      <td>554879</td>\n",
       "      <td>631666</td>\n",
       "      <td>54057</td>\n",
       "      <td>1240602</td>\n",
       "    </tr>\n",
       "    <tr>\n",
       "      <th>2</th>\n",
       "      <td>volkswagen</td>\n",
       "      <td>golf</td>\n",
       "      <td>31.24</td>\n",
       "      <td>6.16</td>\n",
       "      <td>-89.46</td>\n",
       "      <td>1537.41</td>\n",
       "      <td>petrol</td>\n",
       "      <td>483216</td>\n",
       "      <td>310604</td>\n",
       "      <td>47563</td>\n",
       "      <td>841383</td>\n",
       "    </tr>\n",
       "    <tr>\n",
       "      <th>3</th>\n",
       "      <td>renault</td>\n",
       "      <td>clio</td>\n",
       "      <td>22.10</td>\n",
       "      <td>5.62</td>\n",
       "      <td>75.58</td>\n",
       "      <td>1219.65</td>\n",
       "      <td>petrol</td>\n",
       "      <td>241287</td>\n",
       "      <td>312556</td>\n",
       "      <td>28004</td>\n",
       "      <td>581847</td>\n",
       "    </tr>\n",
       "    <tr>\n",
       "      <th>4</th>\n",
       "      <td>bmw</td>\n",
       "      <td>320i</td>\n",
       "      <td>47.85</td>\n",
       "      <td>6.44</td>\n",
       "      <td>126.11</td>\n",
       "      <td>1995.78</td>\n",
       "      <td>petrol</td>\n",
       "      <td>408016</td>\n",
       "      <td>115843</td>\n",
       "      <td>29125</td>\n",
       "      <td>552984</td>\n",
       "    </tr>\n",
       "  </tbody>\n",
       "</table>\n",
       "</div>"
      ],
      "text/plain": [
       "  Manufacturer   Model  Price  Transmission   Power  Engine_CC    Fuel  \\\n",
       "0         ford   focus  30.62          5.97  -94.03    1497.17  petrol   \n",
       "1         ford  fiesta  18.53       5000.71   68.57    1166.14  petrol   \n",
       "2   volkswagen    golf  31.24          6.16  -89.46    1537.41  petrol   \n",
       "3      renault    clio  22.10          5.62   75.58    1219.65  petrol   \n",
       "4          bmw    320i  47.85          6.44  126.11    1995.78  petrol   \n",
       "\n",
       "     Male  Female  Unknown    Total  \n",
       "0  814172  422731    56487  1293390  \n",
       "1  554879  631666    54057  1240602  \n",
       "2  483216  310604    47563   841383  \n",
       "3  241287  312556    28004   581847  \n",
       "4  408016  115843    29125   552984  "
      ]
     },
     "execution_count": 11,
     "metadata": {},
     "output_type": "execute_result"
    }
   ],
   "source": [
    "# remove whitespaces and change to lowercase for 'Manfacturer' and 'Model' cloumns\n",
    "\n",
    "car_df['Manufacturer']=car_df['Manufacturer'].str.lower().str.strip()\n",
    "car_df['Model']=car_df['Model'].str.lower().str.strip()\n",
    "car_df['Fuel']=car_df['Fuel'].str.lower().str.strip()\n",
    "\n",
    "car_df.head()"
   ]
  },
  {
   "cell_type": "markdown",
   "metadata": {},
   "source": [
    "Clean manufacturer names that are unexpected in the dataframe\n"
   ]
  },
  {
   "cell_type": "code",
   "execution_count": 12,
   "metadata": {},
   "outputs": [],
   "source": [
    "manufacturer_arr = ['Renault', 'BMW', 'Volkswagen', 'Peugeot', 'Ford', 'Nissan', 'Honda', 'Toyota', 'Mercedes', 'Audi', 'Citroen', 'Skoda', 'Land-Rover', 'Seat', 'Fiat', 'Mini', 'Saab', 'Hyundai', 'Kia', 'Jaguar', 'Mazda', 'Suzuki', 'Volvo', 'Rover', 'Mitsubishi', 'Smart', 'Porsche', 'Subaru', 'MG', 'Chrysler', 'Chevrolet', 'Alfa-Romeo', 'Daihatsu', 'Bentley', 'Daewoo', 'Dacia', 'Dodge', 'Lotus', 'Aston-Martin', 'Abarth', 'Ssangyong', 'Lexus', 'Maserati', 'Opel', 'Ferrari', 'TVR', 'Triumph', 'Lada', 'Daimler', 'Lancia', 'Datsun', 'Morris']\n",
    "manufacturer_arr = [x.lower() for x in manufacturer_arr]\n",
    "\n",
    "manufacturer_col = car_df['Manufacturer'].unique()\n",
    "unwanted_manufacturer=list(set(manufacturer_col)-set(manufacturer_arr))\n",
    "car_df = car_df[car_df.Model.isin(unwanted_manufacturer) == False]\n",
    "\n",
    "# NO unexpected manufacturer names were found in the dataframe"
   ]
  },
  {
   "cell_type": "markdown",
   "metadata": {},
   "source": [
    "Clean model names that are unexpected in the dataframe"
   ]
  },
  {
   "cell_type": "code",
   "execution_count": 13,
   "metadata": {},
   "outputs": [
    {
     "name": "stdout",
     "output_type": "stream",
     "text": [
      "The following are the unexpected model names:  ['rx', 'forfour', 'jazz', 'leaf', 'prius', 'zs', 'murano', 'soul', 'forester', 'insight', 'explorer', 'asx', 'kuga', 'xv', 'ct', 'outback']\n"
     ]
    }
   ],
   "source": [
    "#Obtain all the unwanted values present in the model column\n",
    "\n",
    "model_arr= ['Clio', '320i', 'Polo', '206', 'Mondeo', 'Micra', 'Civic', 'Ka+', 'Megane', 'Yaris', 'CLA', 'A4', 'Passat', 'A3', '307', '207', 'Xsara', 'Fabia', '118i', 'Freelander', 'C3', 'Corolla', '535i', 'Avensis', 'E', 'Scenic', 'Ibiza', 'Range', 'Qashqai+2', 'Octavia', '500L', 'A', 'Almera', 'C4', 'C5', 'C6', 'Two', 'One', 'RAV4', 'RAV5', '9-3X', '107', 'Aygo', 'I10', 'I11', 'A6', 'Picanto', 'Note', 'Leon', 'XE', 'Fusion', 'Accord', 'MX-5', '6', 'C1', 'Swift', 'Galaxy', '308', '3', 'TT', 'Laguna', '2', 'Panda', 'Auris', '306', '106', 'V70', 'Saxo', 'Touran', 'Beetle', 'Rio', 'C-MAX', 'X5', 'Juke', 'Vitara', 'Ceed', '406', 'Getz', 'X-Trail', 'CLK', 'S40', '75', 'Berlingo', 'Alto', 'Primera', 'I20', 'SLK', 'S-MAX', 'ML', 'Sportage', '407', 'C2', 'I30', 'XF', 'A1', 'Colt', 'A5', 'S-Type', 'V50', 'Escort', 'XC90', 'V40', 'X3', 'Tiguan', 'B', 'Fortwo', 'Bora', '45', '911', 'XJ', 'Impreza', '09-May', 'Celica', 'Sharan', 'Santa', '208', 'S60', 'DS3', 'Modus', 'ZR', 'Voyager', 'Sorento', 'Z4', '2000', 'Up', 'Jimny', 'Matiz', 'Boxster', 'Wagon', '3008', '323', 'Puma', 'Stilo', 'Scirocco', 'XK', 'Altea', 'C30', 'Accent', 'Lupo', 'Sprinter', 'Ix35', 'Kangoo', '5', 'Jetta', 'Alhambra', 'Espace', 'Ignis', 'SX4', 'Carens', 'Q5', 'Partner', 'Yeti', 'Touareg', 'Seicento', 'Superb', 'Bravo', 'X1', 'Q7', '147', 'MR2', '740i', 'TF', 'S80', 'Fox', 'Twingo', 'Lancer', 'Doblo', 'Eos', 'M3', 'PT', 'Matrix', 'IQ', 'SLS', 'A2', 'Z3', 'C70', 'Roomster', 'Splash', 'Previa', 'Starlet', 'Aveo', 'XC70', 'Tucson', 'Legacy', 'Cayenne', '156', '640i', 'Spark', 'Kalos', 'Outlander', 'Pixo', 'FR-V', 'Sirion', 'Mini', 'Venga', 'Streetka', 'Felicia', 'Terrano', 'Space', 'Carisma', 'Lacetti', 'ZT', 'CLC', 'Defender', 'Arosa', 'HR-V', 'City-coupe', 'Terios', 'Carina', 'Multipla', 'A8', 'Citigo', 'Liana', 'Continental', 'Captiva', 'Pathfinder', '205', '900', 'B-MAX', '940', 'Toledo', 'Ix20', '850', 'Verso-S', 'S3', '159', 'Lanos', 'C8', '626', 'Sandero', '807', '5008', 'Cayman', '300C', '300', 'Duster', '1007', '508', 'Xantia', 'RCZ', '350Z', 'Demio', 'S2000', '190', 'Trajet', 'Tacuma', 'GT', 'Premacy', 'ZX', 'V60', 'Brava', 'S4', 'X6', 'Caliber', 'Maverick', 'Streetwise', 'CityRover', 'Cerato', 'Elise', 'Cougar', 'Roadster-coupe', 'Vantage', 'I40', 'Cruze', 'Exeo', 'Urban', 'Mii', 'A7', '405', '500C', 'Transporter', 'Spider', 'DS4', 'Picnic', 'Viano', 'Ulysse', 'Sierra', 'DB9', '80', 'Neon', 'Terracan', 'M550i', 'Magentis', 'AX', 'RS4', 'Captur', 'Grandis', 'Crossfire', 'CR-Z', 'R', 'Stream', 'Idea', 'Prelude', 'Elantra', '607', 'Rexton', 'CC', 'Roadster', '806', '9000', 'S5', 'Nemo', 'Sonata', 'Capri', 'Sedici', 'Brera', '944', 'Cordoba', 'C-Crosser', 'Cabriolet', 'Cinquecento', 'Galant', 'Qubo', 'Lantra', 'Baleno', '440', 'GS', '2008', 'S70', 'GT86', 'Caddy', '4007', 'GLK', 'Camry', 'Nitro', 'Sebring', 'Shuma', 'Veloster', 'Patrol', 'Expert', 'R8', 'Wind', 'Rapid', 'DB7', 'Corrado', 'Supra', 'Marea', 'Serena', 'Vaneo', 'Panamera', 'Copen', 'Logo', 'Paceman', '960', 'Tribute', 'M135i', 'Shuttle', 'Trafic', 'Journey', 'Phaeton', 'Justy', 'Orlando', 'Vito', 'Granada', 'Bipper', '370Z', 'RS6', 'John', 'Hilux', 'Legend', 'MX-3', 'GranCabrio', 'Scorpio', 'Rodius', 'Mustang', '121', 'Coupe', 'Integra', 'Carrera', 'Croma', 'Zafira', 'GT-R', 'DS5', 'Korando', '309', '100', 'Quattro', 'Probe', 'Focus', 'Fiesta', 'Golf', 'Discovery', 'XKR', 'Pride', '19', 'Concerto', 'Leganza', 'Bluebird', 'MPV', 'Xedos', 'Pajero', 'Orion', 'Vento', 'Nexia', 'Mentor', '460', '166', 'Maxima', 'Paseo', 'F430', '850i', 'Uno', 'Favorit', '146', 'MX-6', '145', 'Safrane', 'Move', '928', 'Musso', 'Cooper', 'Tipo', 'Espero', 'XM', 'CRX', 'Tuscan', 'Vel', '21', 'Prairie', 'SJ', 'Esprit', 'Samurai', '360', 'Tempra', '155', 'Barchetta', '90', 'TR7', 'Pony', '605', '25', '164', '11', '505', 'Marbella', 'Acclaim', 'X-90', 'Samara', '305', 'Griffith', '9', '33', 'Manta', 'Applause', '4', '3.6', 'Delta', 'Silvia', 'Sunny', '126', 'Tercel', 'Niva', 'Stellar', '99', '120', 'Kadett', '18', 'Dedra', 'Cherry', 'Marina', 'Laurel', 'Regata', '130', 'Thema', 'Stanza', 'Ital', 'Strada', 'Santana', 'Double', '105', 'Malaga', 'Ascona', 'Monza', 'Fuego', 'Derby', '104', 'Transit', 'Prisma', 'Senator', '127', '200', 'Rekord', '929', 'Cressida', 'Quintet', '14', '20', '1200', '504']\n",
    "model_arr = [x.lower() for x in model_arr]\n",
    "model_col = car_df['Model'].unique()\n",
    "unwanted_model=list(set(model_col)-set(model_arr))\n",
    "print('The following are the unexpected model names: ', unwanted_model)\n",
    "\n",
    "# remove rows that contain the unwanted model name \n",
    "car_df = car_df[car_df.Model.isin(unwanted_model) == False]"
   ]
  },
  {
   "cell_type": "markdown",
   "metadata": {},
   "source": [
    "Fix mistakes in Fuel column"
   ]
  },
  {
   "cell_type": "code",
   "execution_count": 14,
   "metadata": {},
   "outputs": [
    {
     "name": "stdout",
     "output_type": "stream",
     "text": [
      "Unique values in Fuel column:  ['petrol' 'diesel' 'peatrol' 'automatic' 'diasel']\n"
     ]
    }
   ],
   "source": [
    "## Clean Fuel column\n",
    "\n",
    "unique_fuel=car_df['Fuel'].unique()\n",
    "print('Unique values in Fuel column: ', unique_fuel)\n",
    "\n",
    "car_df['Fuel']= car_df['Fuel'].str.replace('peatrol','petrol')\n",
    "car_df['Fuel']= car_df['Fuel'].str.replace('diasel','diesel')\n",
    "car_df['Fuel']= car_df['Fuel'].str.replace('autometic','automatic')"
   ]
  },
  {
   "cell_type": "markdown",
   "metadata": {},
   "source": [
    "The values in the Price column can only be in the range 0.0 - 650.0 and values in the Power column can be between the range 0.0 - 500.0. Althought there are values out of this range present in the Price and Power column, they will be managed in the later steps (in task 2) to get a more visualised context. "
   ]
  },
  {
   "cell_type": "markdown",
   "metadata": {},
   "source": [
    "Clean Transmission column out of range 0.0 - 10"
   ]
  },
  {
   "cell_type": "code",
   "execution_count": 15,
   "metadata": {},
   "outputs": [],
   "source": [
    "# Change negative values to positive\n",
    "car_df['Transmission']=car_df['Transmission'].abs()\n",
    "\n",
    "# Remove rows with Transmission less than 0.0 and more than 10.0 \n",
    "unwanted_transmission=car_df[(car_df['Transmission'] > 10.0) | (car_df['Transmission']<0.0)].index\n",
    "car_df.drop(unwanted_transmission, inplace = True)"
   ]
  },
  {
   "cell_type": "markdown",
   "metadata": {},
   "source": [
    "Clean Engine_CC column out of range 0.0 - 6500.0"
   ]
  },
  {
   "cell_type": "code",
   "execution_count": 16,
   "metadata": {},
   "outputs": [],
   "source": [
    "# Remove rows with Engine_CC less than 0.0 and more than 6500.0 \n",
    "unwanted_engineCC = car_df[(car_df['Engine_CC'] > 6500.0) | (car_df['Engine_CC']<0.0)].index\n",
    "car_df.drop(unwanted_engineCC, inplace = True)\n",
    "car_df =car_df.reset_index(drop = True)"
   ]
  },
  {
   "cell_type": "markdown",
   "metadata": {},
   "source": [
    "Drop any duplicate columns that may exist"
   ]
  },
  {
   "cell_type": "code",
   "execution_count": 17,
   "metadata": {},
   "outputs": [],
   "source": [
    "#Drop any duplicates\n",
    "car_df = car_df.drop_duplicates()"
   ]
  },
  {
   "cell_type": "markdown",
   "metadata": {},
   "source": [
    "Dealing with semi-duplicate rows"
   ]
  },
  {
   "cell_type": "code",
   "execution_count": 18,
   "metadata": {},
   "outputs": [],
   "source": [
    "#sum population of duplicate columns\n",
    "car_df=car_df.drop_duplicates().groupby(['Manufacturer','Model','Price', 'Transmission', 'Power', 'Engine_CC', 'Fuel'], sort=False, as_index=False).sum()\n",
    "car_df[['Male', 'Female', 'Unknown', 'Total']] = car_df[['Male', 'Female', 'Unknown', 'Total']].astype(int)\n"
   ]
  },
  {
   "cell_type": "markdown",
   "metadata": {},
   "source": [
    "View the mostly cleaned data frame"
   ]
  },
  {
   "cell_type": "code",
   "execution_count": 19,
   "metadata": {},
   "outputs": [
    {
     "data": {
      "text/html": [
       "<div>\n",
       "<style scoped>\n",
       "    .dataframe tbody tr th:only-of-type {\n",
       "        vertical-align: middle;\n",
       "    }\n",
       "\n",
       "    .dataframe tbody tr th {\n",
       "        vertical-align: top;\n",
       "    }\n",
       "\n",
       "    .dataframe thead th {\n",
       "        text-align: right;\n",
       "    }\n",
       "</style>\n",
       "<table border=\"1\" class=\"dataframe\">\n",
       "  <thead>\n",
       "    <tr style=\"text-align: right;\">\n",
       "      <th></th>\n",
       "      <th>Manufacturer</th>\n",
       "      <th>Model</th>\n",
       "      <th>Price</th>\n",
       "      <th>Transmission</th>\n",
       "      <th>Power</th>\n",
       "      <th>Engine_CC</th>\n",
       "      <th>Fuel</th>\n",
       "      <th>Male</th>\n",
       "      <th>Female</th>\n",
       "      <th>Unknown</th>\n",
       "      <th>Total</th>\n",
       "    </tr>\n",
       "  </thead>\n",
       "  <tbody>\n",
       "    <tr>\n",
       "      <th>0</th>\n",
       "      <td>ford</td>\n",
       "      <td>focus</td>\n",
       "      <td>30.62</td>\n",
       "      <td>5.97</td>\n",
       "      <td>-94.03</td>\n",
       "      <td>1497.17</td>\n",
       "      <td>petrol</td>\n",
       "      <td>814172</td>\n",
       "      <td>422731</td>\n",
       "      <td>56487</td>\n",
       "      <td>1293390</td>\n",
       "    </tr>\n",
       "    <tr>\n",
       "      <th>1</th>\n",
       "      <td>volkswagen</td>\n",
       "      <td>golf</td>\n",
       "      <td>31.24</td>\n",
       "      <td>6.16</td>\n",
       "      <td>-89.46</td>\n",
       "      <td>1537.41</td>\n",
       "      <td>petrol</td>\n",
       "      <td>483216</td>\n",
       "      <td>310604</td>\n",
       "      <td>47563</td>\n",
       "      <td>841383</td>\n",
       "    </tr>\n",
       "    <tr>\n",
       "      <th>2</th>\n",
       "      <td>renault</td>\n",
       "      <td>clio</td>\n",
       "      <td>22.10</td>\n",
       "      <td>5.62</td>\n",
       "      <td>75.58</td>\n",
       "      <td>1219.65</td>\n",
       "      <td>petrol</td>\n",
       "      <td>3929068</td>\n",
       "      <td>5633947</td>\n",
       "      <td>445121</td>\n",
       "      <td>10008136</td>\n",
       "    </tr>\n",
       "    <tr>\n",
       "      <th>3</th>\n",
       "      <td>bmw</td>\n",
       "      <td>320i</td>\n",
       "      <td>47.85</td>\n",
       "      <td>6.44</td>\n",
       "      <td>126.11</td>\n",
       "      <td>1995.78</td>\n",
       "      <td>petrol</td>\n",
       "      <td>6213366</td>\n",
       "      <td>2090926</td>\n",
       "      <td>429229</td>\n",
       "      <td>8733521</td>\n",
       "    </tr>\n",
       "    <tr>\n",
       "      <th>4</th>\n",
       "      <td>volkswagen</td>\n",
       "      <td>polo</td>\n",
       "      <td>18.19</td>\n",
       "      <td>5.07</td>\n",
       "      <td>60.96</td>\n",
       "      <td>1408.06</td>\n",
       "      <td>petrol</td>\n",
       "      <td>3656888</td>\n",
       "      <td>4881887</td>\n",
       "      <td>499911</td>\n",
       "      <td>9038686</td>\n",
       "    </tr>\n",
       "  </tbody>\n",
       "</table>\n",
       "</div>"
      ],
      "text/plain": [
       "  Manufacturer  Model  Price  Transmission   Power  Engine_CC    Fuel  \\\n",
       "0         ford  focus  30.62          5.97  -94.03    1497.17  petrol   \n",
       "1   volkswagen   golf  31.24          6.16  -89.46    1537.41  petrol   \n",
       "2      renault   clio  22.10          5.62   75.58    1219.65  petrol   \n",
       "3          bmw   320i  47.85          6.44  126.11    1995.78  petrol   \n",
       "4   volkswagen   polo  18.19          5.07   60.96    1408.06  petrol   \n",
       "\n",
       "      Male   Female  Unknown     Total  \n",
       "0   814172   422731    56487   1293390  \n",
       "1   483216   310604    47563    841383  \n",
       "2  3929068  5633947   445121  10008136  \n",
       "3  6213366  2090926   429229   8733521  \n",
       "4  3656888  4881887   499911   9038686  "
      ]
     },
     "execution_count": 19,
     "metadata": {},
     "output_type": "execute_result"
    }
   ],
   "source": [
    "car_df.head()"
   ]
  },
  {
   "cell_type": "markdown",
   "metadata": {},
   "source": [
    "The dataframe will be read to a CSV file after task 2"
   ]
  },
  {
   "cell_type": "markdown",
   "metadata": {},
   "source": [
    "## Task 2 Data Exploration "
   ]
  },
  {
   "cell_type": "markdown",
   "metadata": {},
   "source": [
    "### Task 2.1"
   ]
  },
  {
   "cell_type": "markdown",
   "metadata": {},
   "source": [
    " Exploring the cars’ total number vehicle owners by gender for the top ten vehicles with the most owners."
   ]
  },
  {
   "cell_type": "code",
   "execution_count": 20,
   "metadata": {},
   "outputs": [
    {
     "data": {
      "text/html": [
       "<div>\n",
       "<style scoped>\n",
       "    .dataframe tbody tr th:only-of-type {\n",
       "        vertical-align: middle;\n",
       "    }\n",
       "\n",
       "    .dataframe tbody tr th {\n",
       "        vertical-align: top;\n",
       "    }\n",
       "\n",
       "    .dataframe thead th {\n",
       "        text-align: right;\n",
       "    }\n",
       "</style>\n",
       "<table border=\"1\" class=\"dataframe\">\n",
       "  <thead>\n",
       "    <tr style=\"text-align: right;\">\n",
       "      <th></th>\n",
       "      <th>Manufacturer</th>\n",
       "      <th>Model</th>\n",
       "      <th>Price</th>\n",
       "      <th>Transmission</th>\n",
       "      <th>Power</th>\n",
       "      <th>Engine_CC</th>\n",
       "      <th>Fuel</th>\n",
       "      <th>Male</th>\n",
       "      <th>Female</th>\n",
       "      <th>Unknown</th>\n",
       "      <th>Total</th>\n",
       "    </tr>\n",
       "  </thead>\n",
       "  <tbody>\n",
       "    <tr>\n",
       "      <th>382</th>\n",
       "      <td>ford</td>\n",
       "      <td>fiesta</td>\n",
       "      <td>18.53</td>\n",
       "      <td>5.71</td>\n",
       "      <td>68.57</td>\n",
       "      <td>1166.14</td>\n",
       "      <td>petrol</td>\n",
       "      <td>11596040</td>\n",
       "      <td>12760305</td>\n",
       "      <td>876752</td>\n",
       "      <td>25233097</td>\n",
       "    </tr>\n",
       "    <tr>\n",
       "      <th>101</th>\n",
       "      <td>ford</td>\n",
       "      <td>escort</td>\n",
       "      <td>16.21</td>\n",
       "      <td>4.46</td>\n",
       "      <td>63.56</td>\n",
       "      <td>1650.21</td>\n",
       "      <td>petrol</td>\n",
       "      <td>10937297</td>\n",
       "      <td>5357916</td>\n",
       "      <td>486565</td>\n",
       "      <td>16781778</td>\n",
       "    </tr>\n",
       "    <tr>\n",
       "      <th>383</th>\n",
       "      <td>volkswagen</td>\n",
       "      <td>golf</td>\n",
       "      <td>31.24</td>\n",
       "      <td>6.16</td>\n",
       "      <td>89.46</td>\n",
       "      <td>1537.41</td>\n",
       "      <td>petrol</td>\n",
       "      <td>6856310</td>\n",
       "      <td>4420689</td>\n",
       "      <td>655247</td>\n",
       "      <td>11932246</td>\n",
       "    </tr>\n",
       "    <tr>\n",
       "      <th>6</th>\n",
       "      <td>ford</td>\n",
       "      <td>mondeo</td>\n",
       "      <td>39.97</td>\n",
       "      <td>1.75</td>\n",
       "      <td>130.25</td>\n",
       "      <td>1998.50</td>\n",
       "      <td>petrol</td>\n",
       "      <td>8254266</td>\n",
       "      <td>1818587</td>\n",
       "      <td>340635</td>\n",
       "      <td>10413488</td>\n",
       "    </tr>\n",
       "    <tr>\n",
       "      <th>381</th>\n",
       "      <td>ford</td>\n",
       "      <td>focus</td>\n",
       "      <td>30.62</td>\n",
       "      <td>5.97</td>\n",
       "      <td>94.03</td>\n",
       "      <td>1497.17</td>\n",
       "      <td>petrol</td>\n",
       "      <td>6407597</td>\n",
       "      <td>3355129</td>\n",
       "      <td>408615</td>\n",
       "      <td>10171341</td>\n",
       "    </tr>\n",
       "  </tbody>\n",
       "</table>\n",
       "</div>"
      ],
      "text/plain": [
       "    Manufacturer   Model  Price  Transmission   Power  Engine_CC    Fuel  \\\n",
       "382         ford  fiesta  18.53          5.71   68.57    1166.14  petrol   \n",
       "101         ford  escort  16.21          4.46   63.56    1650.21  petrol   \n",
       "383   volkswagen    golf  31.24          6.16   89.46    1537.41  petrol   \n",
       "6           ford  mondeo  39.97          1.75  130.25    1998.50  petrol   \n",
       "381         ford   focus  30.62          5.97   94.03    1497.17  petrol   \n",
       "\n",
       "         Male    Female  Unknown     Total  \n",
       "382  11596040  12760305   876752  25233097  \n",
       "101  10937297   5357916   486565  16781778  \n",
       "383   6856310   4420689   655247  11932246  \n",
       "6     8254266   1818587   340635  10413488  \n",
       "381   6407597   3355129   408615  10171341  "
      ]
     },
     "execution_count": 20,
     "metadata": {},
     "output_type": "execute_result"
    }
   ],
   "source": [
    "sorted_df= car_df.sort_values(by='Total', ascending = False)\n",
    "sorted_df = sorted_df.head(10)\n",
    "sorted_df.head()"
   ]
  },
  {
   "cell_type": "code",
   "execution_count": 21,
   "metadata": {},
   "outputs": [
    {
     "data": {
      "image/png": "[encoded data removed]",
      "text/plain": [
       "<Figure size 1116x540 with 1 Axes>"
      ]
     },
     "metadata": {},
     "output_type": "display_data"
    }
   ],
   "source": [
    "sorted_df.plot(x='Model', y=['Male', 'Female', 'Unknown'], kind='bar') \n",
    "fig = plt.gcf()\n",
    "fig.set_size_inches(15.5, 7.5)\n",
    "plt.yscale('log')\n",
    "plt.ylabel('Number of car owners')\n",
    "plt.xlabel('Car Model')\n",
    "plt.title('Figure 1: Total number of owners by gender for the top ten vehicles with most owners', fontsize=15)\n",
    "plt.show()"
   ]
  },
  {
   "cell_type": "markdown",
   "metadata": {},
   "source": [
    "### Task 2.2"
   ]
  },
  {
   "cell_type": "markdown",
   "metadata": {},
   "source": [
    "Exploring the error in 'Price' and 'Power' columns by visualization"
   ]
  },
  {
   "cell_type": "markdown",
   "metadata": {},
   "source": [
    "FIgure 2a and 2b represents the distribution of data before dealing with the errors"
   ]
  },
  {
   "cell_type": "code",
   "execution_count": 22,
   "metadata": {},
   "outputs": [
    {
     "data": {
      "image/png": "[encoded data removed]",
      "text/plain": [
       "<Figure size 1116x540 with 2 Axes>"
      ]
     },
     "metadata": {},
     "output_type": "display_data"
    }
   ],
   "source": [
    "fig, axes = plt.subplots(1, 2)\n",
    "\n",
    "car_df[['Price']].hist(bins=10, ax=axes[0])\n",
    "car_df[['Power']].hist(bins=10, ax=axes[1])\n",
    "fig = plt.gcf()\n",
    "fig.set_size_inches(15.5, 7.5)\n",
    "plt.yscale('log')\n",
    "axes[0].set_title('Figure 2a: Distribution of Price column with errors')\n",
    "axes[1].set_title('Figure 2b: Distribution of Power column with errors')\n",
    "axes[0].set_xlabel('Price')\n",
    "axes[0].set_ylabel('Frequency')\n",
    "axes[1].set_ylabel('Frequency')\n",
    "axes[1].set_xlabel('Power')\n",
    "axes[0].set_yscale('log')\n",
    "axes[1].set_xscale('log')\n",
    "plt.show()"
   ]
  },
  {
   "cell_type": "markdown",
   "metadata": {},
   "source": [
    "Errors in 'Price' column"
   ]
  },
  {
   "cell_type": "code",
   "execution_count": 23,
   "metadata": {},
   "outputs": [
    {
     "data": {
      "text/html": [
       "<div>\n",
       "<style scoped>\n",
       "    .dataframe tbody tr th:only-of-type {\n",
       "        vertical-align: middle;\n",
       "    }\n",
       "\n",
       "    .dataframe tbody tr th {\n",
       "        vertical-align: top;\n",
       "    }\n",
       "\n",
       "    .dataframe thead th {\n",
       "        text-align: right;\n",
       "    }\n",
       "</style>\n",
       "<table border=\"1\" class=\"dataframe\">\n",
       "  <thead>\n",
       "    <tr style=\"text-align: right;\">\n",
       "      <th></th>\n",
       "      <th>Manufacturer</th>\n",
       "      <th>Model</th>\n",
       "      <th>Price</th>\n",
       "      <th>Transmission</th>\n",
       "      <th>Power</th>\n",
       "      <th>Engine_CC</th>\n",
       "      <th>Fuel</th>\n",
       "      <th>Male</th>\n",
       "      <th>Female</th>\n",
       "      <th>Unknown</th>\n",
       "      <th>Total</th>\n",
       "    </tr>\n",
       "  </thead>\n",
       "  <tbody>\n",
       "    <tr>\n",
       "      <th>36</th>\n",
       "      <td>citroen</td>\n",
       "      <td>c5</td>\n",
       "      <td>290050.26</td>\n",
       "      <td>5.95</td>\n",
       "      <td>0.12</td>\n",
       "      <td>1462.36</td>\n",
       "      <td>petrol</td>\n",
       "      <td>79604</td>\n",
       "      <td>42130</td>\n",
       "      <td>5547</td>\n",
       "      <td>127281</td>\n",
       "    </tr>\n",
       "    <tr>\n",
       "      <th>386</th>\n",
       "      <td>rover</td>\n",
       "      <td>cityrover</td>\n",
       "      <td>-11.74</td>\n",
       "      <td>5.00</td>\n",
       "      <td>63.00</td>\n",
       "      <td>1405.00</td>\n",
       "      <td>petrol</td>\n",
       "      <td>2725</td>\n",
       "      <td>3148</td>\n",
       "      <td>443</td>\n",
       "      <td>6316</td>\n",
       "    </tr>\n",
       "    <tr>\n",
       "      <th>387</th>\n",
       "      <td>toyota</td>\n",
       "      <td>verso-s</td>\n",
       "      <td>-22.05</td>\n",
       "      <td>3.60</td>\n",
       "      <td>73.00</td>\n",
       "      <td>1329.00</td>\n",
       "      <td>petrol</td>\n",
       "      <td>3117</td>\n",
       "      <td>1976</td>\n",
       "      <td>357</td>\n",
       "      <td>5450</td>\n",
       "    </tr>\n",
       "  </tbody>\n",
       "</table>\n",
       "</div>"
      ],
      "text/plain": [
       "    Manufacturer      Model      Price  Transmission  Power  Engine_CC  \\\n",
       "36       citroen         c5  290050.26          5.95   0.12    1462.36   \n",
       "386        rover  cityrover     -11.74          5.00  63.00    1405.00   \n",
       "387       toyota    verso-s     -22.05          3.60  73.00    1329.00   \n",
       "\n",
       "       Fuel   Male  Female  Unknown   Total  \n",
       "36   petrol  79604   42130     5547  127281  \n",
       "386  petrol   2725    3148      443    6316  \n",
       "387  petrol   3117    1976      357    5450  "
      ]
     },
     "execution_count": 23,
     "metadata": {},
     "output_type": "execute_result"
    }
   ],
   "source": [
    "#Errors in 'Price' column\n",
    "unwanted_price=car_df[(car_df['Price'] > 650.0) | (car_df['Price']<0.0)]\n",
    "price_outliers = pd.DataFrame(data=unwanted_price)\n",
    "price_outliers.head()"
   ]
  },
  {
   "cell_type": "markdown",
   "metadata": {},
   "source": [
    "Visualise errors in 'Price' Column"
   ]
  },
  {
   "cell_type": "code",
   "execution_count": 24,
   "metadata": {},
   "outputs": [
    {
     "data": {
      "image/png": "[encoded data removed]",
      "text/plain": [
       "<Figure size 1116x540 with 1 Axes>"
      ]
     },
     "metadata": {},
     "output_type": "display_data"
    }
   ],
   "source": [
    "import numpy as np\n",
    "import matplotlib.patches as mpatches\n",
    "\n",
    "colors = np.where(price_outliers['Price']<0, 'C1', 'C0')\n",
    "\n",
    "price_outliers.plot(kind='scatter', x= 'Model', y='Price',  c=colors.ravel())\n",
    "fig = plt.gcf()\n",
    "fig.set_size_inches(15.5, 7.5)\n",
    "pos_a = mpatches.Patch(color='C0', label='Positive errors')\n",
    "pos_b = mpatches.Patch(color='C1', label='Negative errors')\n",
    "plt.legend(handles=[pos_a,pos_b])\n",
    "plt.ylabel('Price')\n",
    "plt.xlabel('Model')\n",
    "plt.title('Figure 3: Errors in the Price column', fontsize=15)\n",
    "plt.show()\n"
   ]
  },
  {
   "cell_type": "markdown",
   "metadata": {},
   "source": [
    "Errors in 'Power' column"
   ]
  },
  {
   "cell_type": "code",
   "execution_count": 25,
   "metadata": {},
   "outputs": [
    {
     "data": {
      "text/html": [
       "<div>\n",
       "<style scoped>\n",
       "    .dataframe tbody tr th:only-of-type {\n",
       "        vertical-align: middle;\n",
       "    }\n",
       "\n",
       "    .dataframe tbody tr th {\n",
       "        vertical-align: top;\n",
       "    }\n",
       "\n",
       "    .dataframe thead th {\n",
       "        text-align: right;\n",
       "    }\n",
       "</style>\n",
       "<table border=\"1\" class=\"dataframe\">\n",
       "  <thead>\n",
       "    <tr style=\"text-align: right;\">\n",
       "      <th></th>\n",
       "      <th>Manufacturer</th>\n",
       "      <th>Model</th>\n",
       "      <th>Price</th>\n",
       "      <th>Transmission</th>\n",
       "      <th>Power</th>\n",
       "      <th>Engine_CC</th>\n",
       "      <th>Fuel</th>\n",
       "      <th>Male</th>\n",
       "      <th>Female</th>\n",
       "      <th>Unknown</th>\n",
       "      <th>Total</th>\n",
       "    </tr>\n",
       "  </thead>\n",
       "  <tbody>\n",
       "    <tr>\n",
       "      <th>0</th>\n",
       "      <td>ford</td>\n",
       "      <td>focus</td>\n",
       "      <td>30.62</td>\n",
       "      <td>5.97</td>\n",
       "      <td>-94.03</td>\n",
       "      <td>1497.17</td>\n",
       "      <td>petrol</td>\n",
       "      <td>814172</td>\n",
       "      <td>422731</td>\n",
       "      <td>56487</td>\n",
       "      <td>1293390</td>\n",
       "    </tr>\n",
       "    <tr>\n",
       "      <th>1</th>\n",
       "      <td>volkswagen</td>\n",
       "      <td>golf</td>\n",
       "      <td>31.24</td>\n",
       "      <td>6.16</td>\n",
       "      <td>-89.46</td>\n",
       "      <td>1537.41</td>\n",
       "      <td>petrol</td>\n",
       "      <td>483216</td>\n",
       "      <td>310604</td>\n",
       "      <td>47563</td>\n",
       "      <td>841383</td>\n",
       "    </tr>\n",
       "    <tr>\n",
       "      <th>37</th>\n",
       "      <td>citroen</td>\n",
       "      <td>c6</td>\n",
       "      <td>2.26</td>\n",
       "      <td>7.95</td>\n",
       "      <td>70600.12</td>\n",
       "      <td>1462.36</td>\n",
       "      <td>petrol</td>\n",
       "      <td>79604</td>\n",
       "      <td>42130</td>\n",
       "      <td>5547</td>\n",
       "      <td>127281</td>\n",
       "    </tr>\n",
       "    <tr>\n",
       "      <th>38</th>\n",
       "      <td>mini</td>\n",
       "      <td>two</td>\n",
       "      <td>3.56</td>\n",
       "      <td>5.95</td>\n",
       "      <td>80120.12</td>\n",
       "      <td>1462.36</td>\n",
       "      <td>petrol</td>\n",
       "      <td>79604</td>\n",
       "      <td>42130</td>\n",
       "      <td>5547</td>\n",
       "      <td>127281</td>\n",
       "    </tr>\n",
       "    <tr>\n",
       "      <th>41</th>\n",
       "      <td>toyota</td>\n",
       "      <td>rav5</td>\n",
       "      <td>4.35</td>\n",
       "      <td>1.35</td>\n",
       "      <td>5370354.77</td>\n",
       "      <td>2261.19</td>\n",
       "      <td>petrol</td>\n",
       "      <td>59395</td>\n",
       "      <td>54005</td>\n",
       "      <td>8166</td>\n",
       "      <td>121566</td>\n",
       "    </tr>\n",
       "  </tbody>\n",
       "</table>\n",
       "</div>"
      ],
      "text/plain": [
       "   Manufacturer  Model  Price  Transmission       Power  Engine_CC    Fuel  \\\n",
       "0          ford  focus  30.62          5.97      -94.03    1497.17  petrol   \n",
       "1    volkswagen   golf  31.24          6.16      -89.46    1537.41  petrol   \n",
       "37      citroen     c6   2.26          7.95    70600.12    1462.36  petrol   \n",
       "38         mini    two   3.56          5.95    80120.12    1462.36  petrol   \n",
       "41       toyota   rav5   4.35          1.35  5370354.77    2261.19  petrol   \n",
       "\n",
       "      Male  Female  Unknown    Total  \n",
       "0   814172  422731    56487  1293390  \n",
       "1   483216  310604    47563   841383  \n",
       "37   79604   42130     5547   127281  \n",
       "38   79604   42130     5547   127281  \n",
       "41   59395   54005     8166   121566  "
      ]
     },
     "execution_count": 25,
     "metadata": {},
     "output_type": "execute_result"
    }
   ],
   "source": [
    "#Errors in 'Power' column\n",
    "unwanted_power=car_df[(car_df['Power'] > 500.0) | (car_df['Power']<0.0)]\n",
    "power_outliers = pd.DataFrame(data=unwanted_power)\n",
    "power_outliers.head()"
   ]
  },
  {
   "cell_type": "markdown",
   "metadata": {},
   "source": [
    "Visualise errors in 'Power' Column"
   ]
  },
  {
   "cell_type": "code",
   "execution_count": 26,
   "metadata": {},
   "outputs": [
    {
     "data": {
      "image/png": "[encoded data removed]",
      "text/plain": [
       "<Figure size 1116x540 with 1 Axes>"
      ]
     },
     "metadata": {},
     "output_type": "display_data"
    }
   ],
   "source": [
    "colors = np.where(power_outliers['Power']<0, 'C1', 'C0')\n",
    "\n",
    "power_outliers.plot(kind='scatter', x= 'Model', y='Power',  c=colors.ravel())\n",
    "fig = plt.gcf()\n",
    "fig.set_size_inches(15.5, 7.5)\n",
    "pos_a = mpatches.Patch(color='C0', label='Positive errors')\n",
    "pos_b = mpatches.Patch(color='C1', label='Negative errors')\n",
    "plt.legend(handles=[pos_a,pos_b])\n",
    "plt.ylabel('Power')\n",
    "plt.xlabel('Model')\n",
    "plt.title('Figure 4: Errors in the Power column', fontsize=15)\n",
    "plt.show()"
   ]
  },
  {
   "cell_type": "markdown",
   "metadata": {},
   "source": [
    "Cleaning Price column"
   ]
  },
  {
   "cell_type": "code",
   "execution_count": 27,
   "metadata": {},
   "outputs": [],
   "source": [
    "# Change negative values to positive\n",
    "car_df['Price']=car_df['Price'].abs()\n",
    "\n",
    "# Remove rows with price greater than 650.0 \n",
    "unwanted_price=car_df[(car_df['Price'] > 650.0) | (car_df['Price']<0.0)].index\n",
    "price_outliers = pd.DataFrame(data=unwanted_price)\n",
    "car_df.drop(unwanted_price, inplace = True)"
   ]
  },
  {
   "cell_type": "markdown",
   "metadata": {},
   "source": [
    "Cleaning Power column"
   ]
  },
  {
   "cell_type": "code",
   "execution_count": 28,
   "metadata": {},
   "outputs": [],
   "source": [
    "# Change negative values to positive\n",
    "car_df['Power']=car_df['Power'].abs()\n",
    "\n",
    "# Remove rows with Power less than 0.0 and more than 500.0 \n",
    "unwanted_power = car_df[(car_df['Power'] > 500.0) | (car_df['Power']<0.0)].index\n",
    "car_df.drop(unwanted_power, inplace = True)"
   ]
  },
  {
   "cell_type": "markdown",
   "metadata": {},
   "source": [
    "Dealing with any duplicate values again after cleaning the errors"
   ]
  },
  {
   "cell_type": "code",
   "execution_count": 29,
   "metadata": {},
   "outputs": [],
   "source": [
    "#sum population of duplicate columns again after dealing with the erros\n",
    "car_df=car_df.drop_duplicates().groupby(['Manufacturer','Model','Price', 'Transmission', 'Power', 'Engine_CC', 'Fuel'], sort=False, as_index=False).sum()\n",
    "car_df[['Male', 'Female', 'Unknown', 'Total']] = car_df[['Male', 'Female', 'Unknown', 'Total']].astype(int)\n"
   ]
  },
  {
   "cell_type": "markdown",
   "metadata": {},
   "source": [
    "Visualisation of Price and Power column after dealing with errors"
   ]
  },
  {
   "cell_type": "code",
   "execution_count": 30,
   "metadata": {},
   "outputs": [
    {
     "data": {
      "image/png": "[encoded data removed]",
      "text/plain": [
       "<Figure size 1116x540 with 2 Axes>"
      ]
     },
     "metadata": {},
     "output_type": "display_data"
    }
   ],
   "source": [
    "fig, axes = plt.subplots(1, 2)\n",
    "\n",
    "car_df[['Price']].hist(bins=10, ax=axes[0])\n",
    "car_df[['Power']].hist(bins=10, ax=axes[1])\n",
    "fig = plt.gcf()\n",
    "fig.set_size_inches(15.5, 7.5)\n",
    "plt.yscale('log')\n",
    "axes[0].set_title('Figure 5a: Distribution of Price column without errors')\n",
    "axes[1].set_title('Figure 5b: Distribution of Power column without errors')\n",
    "axes[0].set_ylabel('Frequency')\n",
    "axes[1].set_xlabel('Power')\n",
    "axes[0].set_xlabel('Price')\n",
    "axes[1].set_ylabel('Frequency')\n",
    "axes[0].set_yscale('log')\n",
    "axes[1].set_yscale('log')\n",
    "plt.show()"
   ]
  },
  {
   "cell_type": "markdown",
   "metadata": {},
   "source": [
    "### Task 2.3"
   ]
  },
  {
   "cell_type": "markdown",
   "metadata": {},
   "source": [
    "Relationship between Male car owners and other car attributes"
   ]
  },
  {
   "cell_type": "code",
   "execution_count": 31,
   "metadata": {},
   "outputs": [],
   "source": [
    "rel_samp=car_df.drop_duplicates().groupby(['Price','Transmission', 'Engine_CC'], sort=False, as_index=False).sum()\n",
    "rel_samp = rel_samp[[ 'Price', 'Transmission', 'Engine_CC','Male']]"
   ]
  },
  {
   "cell_type": "code",
   "execution_count": 32,
   "metadata": {},
   "outputs": [
    {
     "data": {
      "image/png": "[encoded data removed]",
      "text/plain": [
       "<Figure size 1116x540 with 1 Axes>"
      ]
     },
     "metadata": {},
     "output_type": "display_data"
    }
   ],
   "source": [
    "\n",
    "rel_samp.plot(kind='scatter', x='Price', y='Male', color='b')    \n",
    "\n",
    "fig = plt.gcf()\n",
    "fig.set_size_inches(15.5, 7.5)\n",
    "pos_a = mpatches.Patch(color='b', label='Price')\n",
    "\n",
    "plt.legend(handles=[pos_a])\n",
    "\n",
    "plt.ylabel('Number of Male Car Owners')\n",
    "plt.xlabel('Car Price')\n",
    "\n",
    "plt.title('Figure 5a: Relation between male car owners and car price\\n', fontsize=15)\n",
    "plt.show()\n"
   ]
  },
  {
   "cell_type": "code",
   "execution_count": 33,
   "metadata": {},
   "outputs": [
    {
     "data": {
      "image/png": "[encoded data removed]",
      "text/plain": [
       "<Figure size 1116x540 with 1 Axes>"
      ]
     },
     "metadata": {},
     "output_type": "display_data"
    }
   ],
   "source": [
    "rel_samp.plot(kind='scatter', x='Transmission', y='Male', color='g')    \n",
    "\n",
    "fig = plt.gcf()\n",
    "fig.set_size_inches(15.5, 7.5)\n",
    "pos_a = mpatches.Patch(color='g', label='Transmission')\n",
    "\n",
    "plt.legend(handles=[pos_a])\n",
    "\n",
    "plt.ylabel('Number of Male Car Owners')\n",
    "plt.xlabel('Car Transmission')\n",
    "\n",
    "plt.title('Figure 5b: Relation between male car owners and car tramsmission\\n', fontsize=15)\n",
    "plt.show()\n"
   ]
  },
  {
   "cell_type": "code",
   "execution_count": 34,
   "metadata": {},
   "outputs": [
    {
     "data": {
      "image/png": "[encoded data removed]",
      "text/plain": [
       "<Figure size 1116x540 with 1 Axes>"
      ]
     },
     "metadata": {},
     "output_type": "display_data"
    }
   ],
   "source": [
    "rel_samp.plot(kind='scatter', x='Engine_CC', y='Male', color='y')    \n",
    "\n",
    "fig = plt.gcf()\n",
    "fig.set_size_inches(15.5, 7.5)\n",
    "pos_a = mpatches.Patch(color='y', label='Engine CC')\n",
    "\n",
    "plt.legend(handles=[pos_a])\n",
    "\n",
    "plt.ylabel('Number of Male Car Owners')\n",
    "plt.xlabel('Car Engine CC')\n",
    "\n",
    "plt.title('Figure 5c: Relation between male car owners and car engine CC\\n', fontsize=15)\n",
    "plt.show()\n"
   ]
  },
  {
   "cell_type": "markdown",
   "metadata": {},
   "source": [
    "Exploring relationship between the number of Male owners and the type of fuel used compared to other genders"
   ]
  },
  {
   "cell_type": "code",
   "execution_count": 35,
   "metadata": {},
   "outputs": [],
   "source": [
    "car_sample=car_df.drop_duplicates().groupby(['Fuel'], sort=False, as_index=False).sum()\n",
    "car_sample = car_sample[['Fuel', 'Male', 'Female', 'Unknown']]"
   ]
  },
  {
   "cell_type": "code",
   "execution_count": 36,
   "metadata": {},
   "outputs": [
    {
     "data": {
      "image/png": "[encoded data removed]",
      "text/plain": [
       "<Figure size 1116x540 with 1 Axes>"
      ]
     },
     "metadata": {},
     "output_type": "display_data"
    }
   ],
   "source": [
    "car_sample.plot(x='Fuel', y=['Male', 'Female', 'Unknown'], kind='bar') \n",
    "fig = plt.gcf()\n",
    "fig.set_size_inches(15.5, 7.5)\n",
    "plt.yscale('log')\n",
    "plt.ylabel('Number of car owners')\n",
    "plt.xlabel('Fuel type')\n",
    "plt.title('Figure 6: Total number of car owners by gender for the type of fuel used in the cars', fontsize=15)\n",
    "plt.show()"
   ]
  },
  {
   "cell_type": "markdown",
   "metadata": {},
   "source": [
    "Generating the prepared 'cleaned_car_buyers.csv' file\n"
   ]
  },
  {
   "cell_type": "code",
   "execution_count": 37,
   "metadata": {},
   "outputs": [
    {
     "data": {
      "text/html": [
       "<div>\n",
       "<style scoped>\n",
       "    .dataframe tbody tr th:only-of-type {\n",
       "        vertical-align: middle;\n",
       "    }\n",
       "\n",
       "    .dataframe tbody tr th {\n",
       "        vertical-align: top;\n",
       "    }\n",
       "\n",
       "    .dataframe thead th {\n",
       "        text-align: right;\n",
       "    }\n",
       "</style>\n",
       "<table border=\"1\" class=\"dataframe\">\n",
       "  <thead>\n",
       "    <tr style=\"text-align: right;\">\n",
       "      <th></th>\n",
       "      <th>Manufacturer</th>\n",
       "      <th>Model</th>\n",
       "      <th>Price</th>\n",
       "      <th>Transmission</th>\n",
       "      <th>Power</th>\n",
       "      <th>Engine_CC</th>\n",
       "      <th>Fuel</th>\n",
       "      <th>Male</th>\n",
       "      <th>Female</th>\n",
       "      <th>Unknown</th>\n",
       "      <th>Total</th>\n",
       "    </tr>\n",
       "  </thead>\n",
       "  <tbody>\n",
       "    <tr>\n",
       "      <th>0</th>\n",
       "      <td>ford</td>\n",
       "      <td>focus</td>\n",
       "      <td>30.62</td>\n",
       "      <td>5.97</td>\n",
       "      <td>94.03</td>\n",
       "      <td>1497.17</td>\n",
       "      <td>petrol</td>\n",
       "      <td>7221769</td>\n",
       "      <td>3777860</td>\n",
       "      <td>465102</td>\n",
       "      <td>11464731</td>\n",
       "    </tr>\n",
       "    <tr>\n",
       "      <th>1</th>\n",
       "      <td>volkswagen</td>\n",
       "      <td>golf</td>\n",
       "      <td>31.24</td>\n",
       "      <td>6.16</td>\n",
       "      <td>89.46</td>\n",
       "      <td>1537.41</td>\n",
       "      <td>petrol</td>\n",
       "      <td>7339526</td>\n",
       "      <td>4731293</td>\n",
       "      <td>702810</td>\n",
       "      <td>12773629</td>\n",
       "    </tr>\n",
       "    <tr>\n",
       "      <th>2</th>\n",
       "      <td>renault</td>\n",
       "      <td>clio</td>\n",
       "      <td>22.10</td>\n",
       "      <td>5.62</td>\n",
       "      <td>75.58</td>\n",
       "      <td>1219.65</td>\n",
       "      <td>petrol</td>\n",
       "      <td>3929068</td>\n",
       "      <td>5633947</td>\n",
       "      <td>445121</td>\n",
       "      <td>10008136</td>\n",
       "    </tr>\n",
       "    <tr>\n",
       "      <th>3</th>\n",
       "      <td>bmw</td>\n",
       "      <td>320i</td>\n",
       "      <td>47.85</td>\n",
       "      <td>6.44</td>\n",
       "      <td>126.11</td>\n",
       "      <td>1995.78</td>\n",
       "      <td>petrol</td>\n",
       "      <td>6213366</td>\n",
       "      <td>2090926</td>\n",
       "      <td>429229</td>\n",
       "      <td>8733521</td>\n",
       "    </tr>\n",
       "    <tr>\n",
       "      <th>4</th>\n",
       "      <td>volkswagen</td>\n",
       "      <td>polo</td>\n",
       "      <td>18.19</td>\n",
       "      <td>5.07</td>\n",
       "      <td>60.96</td>\n",
       "      <td>1408.06</td>\n",
       "      <td>petrol</td>\n",
       "      <td>3656888</td>\n",
       "      <td>4881887</td>\n",
       "      <td>499911</td>\n",
       "      <td>9038686</td>\n",
       "    </tr>\n",
       "  </tbody>\n",
       "</table>\n",
       "</div>"
      ],
      "text/plain": [
       "  Manufacturer  Model  Price  Transmission   Power  Engine_CC    Fuel  \\\n",
       "0         ford  focus  30.62          5.97   94.03    1497.17  petrol   \n",
       "1   volkswagen   golf  31.24          6.16   89.46    1537.41  petrol   \n",
       "2      renault   clio  22.10          5.62   75.58    1219.65  petrol   \n",
       "3          bmw   320i  47.85          6.44  126.11    1995.78  petrol   \n",
       "4   volkswagen   polo  18.19          5.07   60.96    1408.06  petrol   \n",
       "\n",
       "      Male   Female  Unknown     Total  \n",
       "0  7221769  3777860   465102  11464731  \n",
       "1  7339526  4731293   702810  12773629  \n",
       "2  3929068  5633947   445121  10008136  \n",
       "3  6213366  2090926   429229   8733521  \n",
       "4  3656888  4881887   499911   9038686  "
      ]
     },
     "execution_count": 37,
     "metadata": {},
     "output_type": "execute_result"
    }
   ],
   "source": [
    "car_df.head()"
   ]
  },
  {
   "cell_type": "code",
   "execution_count": 38,
   "metadata": {},
   "outputs": [],
   "source": [
    "#Generate csv from the dataframe\n",
    "car_df.to_csv('cleaned_car_buyers.csv')"
   ]
  }
 ],
 "metadata": {
  "kernelspec": {
   "display_name": "Python 3.8.8 64-bit ('base': conda)",
   "language": "python",
   "name": "python388jvsc74a57bd0c2b79b7fcf0ac83bd5f28898a35d4fbe6d0cdbdfdc3e9cf91b79ef62dc585791"
  },
  "language_info": {
   "codemirror_mode": {
    "name": "ipython",
    "version": 3
   },
   "file_extension": ".py",
   "mimetype": "text/x-python",
   "name": "python",
   "nbconvert_exporter": "python",
   "pygments_lexer": "ipython3",
   "version": "3.8.5"
  }
 },
 "nbformat": 4,
 "nbformat_minor": 5
}
